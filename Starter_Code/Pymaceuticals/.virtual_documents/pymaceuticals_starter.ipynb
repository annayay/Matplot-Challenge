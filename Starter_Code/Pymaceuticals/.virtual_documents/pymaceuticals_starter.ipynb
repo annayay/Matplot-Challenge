


# Dependencies and Setup
import matplotlib.pyplot as plt
import pandas as pd
import scipy.stats as st

# Study data files
mouse_metadata_path = "data/Mouse_metadata.csv"
study_results_path = "data/Study_results.csv"

# Read the mouse data and the study results
mouse_metadata = pd.read_csv(mouse_metadata_path)
study_results = pd.read_csv(study_results_path)

# Combine the data into a single DataFrame
combined_data = pd.merge(mouse_metadata, study_results, on="Mouse ID")

# Display the data table for preview
print(combined_data.head())



# Checking the number of unique mice
number_of_mice = combined_data["Mouse ID"].nunique()
print(f"Number of unique mice: {number_of_mice}")



# Get the duplicate mice by ID number that shows up for Mouse ID and Timepoint
duplicate_mice = combined_data[combined_data.duplicated(subset=["Mouse ID", "Timepoint"], keep=False)]

# Display the duplicate mice
print(duplicate_mice)



# Get the duplicate mouse IDs
duplicate_mouse_ids = combined_data[combined_data.duplicated(subset=["Mouse ID", "Timepoint"], keep=False)]["Mouse ID"].unique()

# Filter the combined DataFrame to get all data for the duplicate mouse IDs
duplicate_mouse_data = combined_data[combined_data["Mouse ID"].isin(duplicate_mouse_ids)]

# Display the data for the duplicate mouse IDs
print(duplicate_mouse_data)


# Create a clean DataFrame by dropping the duplicates
cleaned_data = combined_data.drop_duplicates(subset=["Mouse ID", "Timepoint"])

# Display the cleaned DataFrame
print(cleaned_data)


# Checking the number of unique mice in the clean DataFrame
number_of_cleaned_mice = cleaned_data["Mouse ID"].nunique()
print(f"Number of unique mice in the cleaned DataFrame: {number_of_cleaned_mice}")





# Calculate summary statistics for tumor volume by drug regimen
summary_statistics = cleaned_data.groupby("Drug Regimen")["Tumor Volume (mm3)"].agg(
    mean='mean',
    median='median',
    variance='var',
    standard_deviation='std',
    SEM=lambda x: st.sem(x)  # Using scipy.stats to calculate SEM
).reset_index()

# Display the summary statistics DataFrame
print(summary_statistics)



# Generate summary statistics using a single line aggregation method
summary_statistics = cleaned_data.groupby("Drug Regimen")["Tumor Volume (mm3)"].agg(
    mean='mean',
    median='median',
    variance='var',
    standard_deviation='std',
    SEM=lambda x: st.sem(x)
).reset_index()

# Display the summary statistics DataFrame
print(summary_statistics)





# Count the total number of rows for each drug regimen
regimen_counts = cleaned_data["Drug Regimen"].value_counts()

# Generate a bar plot using Pandas
regimen_counts.plot(kind='bar', figsize=(10, 5), title='Total Number of Rows for Each Drug Regimen', xlabel='Drug Regimen', ylabel='Number of Rows')
plt.show()


# Count the total number of rows for each drug regimen
regimen_counts = cleaned_data["Drug Regimen"].value_counts()

# Generate a bar plot using pyplot
plt.figure(figsize=(10, 5))
plt.bar(regimen_counts.index, regimen_counts.values, color='skyblue')
plt.title('Total Number of Rows for Each Drug Regimen')
plt.xlabel('Drug Regimen')
plt.ylabel('Number of Rows')
plt.xticks(rotation=45)
plt.show()


# Get the unique mice with their gender
unique_mice = cleaned_data[['Mouse ID', 'Sex']].drop_duplicates()

# Count the number of unique mice for each gender
gender_counts = unique_mice['Sex'].value_counts()

# Generate a pie chart using Pandas
gender_counts.plot(kind='pie', autopct='%1.1f%%', startangle=90, title='Distribution of Unique Female vs Male Mice', figsize=(8, 8))
plt.ylabel('')  # Hide the y-label
plt.show()


# Get the unique mice with their gender
unique_mice = cleaned_data[['Mouse ID', 'Sex']].drop_duplicates()

# Count the number of unique mice for each gender
gender_counts = unique_mice['Sex'].value_counts()

# Generate a pie chart using pyplot
plt.figure(figsize=(8, 8))
plt.pie(gender_counts, labels=gender_counts.index, autopct='%1.1f%%', startangle=90)
plt.title('Distribution of Unique Female vs Male Mice')
plt.axis('equal')  # Equal aspect ratio ensures that pie is drawn as a circle.
plt.show()






# Get the last (greatest) timepoint for each mouse
last_timepoints = cleaned_data.groupby('Mouse ID')['Timepoint'].max().reset_index()

# Merge this group DataFrame with the original DataFrame to get the tumor volume at the last timepoint
final_tumor_volumes = pd.merge(last_timepoints, cleaned_data, on=['Mouse ID', 'Timepoint'])

# Filter for the specified treatment regimens
final_tumor_volumes = final_tumor_volumes[final_tumor_volumes['Drug Regimen'].isin(['Capomulin', 'Ramicane', 'Infubinol', 'Ceftamin'])]

# Display the final tumor volumes DataFrame
print(final_tumor_volumes[['Mouse ID', 'Drug Regimen', 'Tumor Volume (mm3)', 'Timepoint']])


# Put treatments into a list for the loop (and later for plot labels)
treatments = ['Capomulin', 'Ramicane', 'Infubinol', 'Ceftamin']

# Create an empty list to fill with tumor volume data (for plotting)
tumor_vol_data = []

# Calculate the IQR and quantitatively determine if there are any potential outliers
for treatment in treatments:
    # Locate the rows which contain mice on each drug and get the tumor volumes
    tumor_volumes = final_tumor_volumes[final_tumor_volumes['Drug Regimen'] == treatment]['Tumor Volume (mm3)']
    
    # Add subset to the tumor volume data list
    tumor_vol_data.append(tumor_volumes)
    
    # Calculate Q1 (25th percentile) and Q3 (75th percentile)
    Q1 = tumor_volumes.quantile(0.25)
    Q3 = tumor_volumes.quantile(0.75)
    
    # Calculate IQR
    IQR = Q3 - Q1
    
    # Determine outliers using upper and lower bounds
    lower_bound = Q1 - 1.5 * IQR
    upper_bound = Q3 + 1.5 * IQR
    
    # Print the results for each treatment
    print(f"{treatment}:")
    print(f"  Lower Bound: {lower_bound}")
    print(f"  Upper Bound: {upper_bound}")
    print(f"  Potential Outliers: {tumor_volumes[(tumor_volumes < lower_bound) | (tumor_volumes > upper_bound)]}")



# Create a box plot for the tumor volume distribution by treatment group
plt.figure(figsize=(10, 6))
final_tumor_volumes.boxplot(column='Tumor Volume (mm3)', by='Drug Regimen', grid=False)

# Set the title and labels
plt.title('Distribution of Tumor Volume by Treatment Group')
plt.suptitle('')  # Suppress the default title to avoid overlap
plt.xlabel('Drug Regimen')
plt.ylabel('Tumor Volume (mm3)')

# Show the plot
plt.show()





# Select a single mouse treated with Capomulin (for example, "g989")
mouse_id = "g989"  # Replace with the desired mouse ID
mouse_data = cleaned_data[cleaned_data["Mouse ID"] == mouse_id]

# Generate a line plot of tumor volume vs. time point
plt.figure(figsize=(10, 6))
plt.plot(mouse_data["Timepoint"], mouse_data["Tumor Volume (mm3)"], marker='o', color='b', label=mouse_id)

# Set the title and labels
plt.title(f'Tumor Volume vs. Time Point for Mouse {mouse_id} (Capomulin Treatment)')
plt.xlabel('Time Point (Days)')
plt.ylabel('Tumor Volume (mm3)')
plt.xticks(mouse_data["Timepoint"])  # Set x-ticks to the time points
plt.legend()
plt.grid()

# Show the plot
plt.show()


# Generate a scatter plot of mouse weight vs. the average observed tumor volume for the entire Capomulin regimen






# Filter the data for the Capomulin regimen
capomulin_data = cleaned_data[cleaned_data["Drug Regimen"] == "Capomulin"]

# Calculate the average tumor volume for each mouse
average_tumor_volume = capomulin_data.groupby("Mouse ID").agg(
    Average_Tumor_Volume=('Tumor Volume (mm3)', 'mean'),
    Mouse_Weight=('Weight (g)', 'mean')
).reset_index()

# Calculate the correlation coefficient
correlation_coefficient = st.pearsonr(average_tumor_volume['Mouse_Weight'], average_tumor_volume['Average_Tumor_Volume'])
print(f"Correlation Coefficient: {correlation_coefficient[0]}")

# Fit a linear regression model
slope, intercept, r_value, p_value, std_err = st.linregress(average_tumor_volume['Mouse_Weight'], average_tumor_volume['Average_Tumor_Volume'])

# Create a linear regression line
regression_line = slope * average_tumor_volume['Mouse_Weight'] + intercept

# Plot the data and the regression line
plt.figure(figsize=(10, 6))
plt.scatter(average_tumor_volume['Mouse_Weight'], average_tumor_volume['Average_Tumor_Volume'], color='blue', label='Data Points')
plt.plot(average_tumor_volume['Mouse_Weight'], regression_line, color='red', label='Regression Line')

# Set the title and labels
plt.title('Mouse Weight vs. Average Tumor Volume (Capomulin Regimen)')
plt.xlabel('Mouse Weight (g)')
plt.ylabel('Average Tumor Volume (mm3)')
plt.legend()
plt.grid()

# Show the plot
plt.show()



